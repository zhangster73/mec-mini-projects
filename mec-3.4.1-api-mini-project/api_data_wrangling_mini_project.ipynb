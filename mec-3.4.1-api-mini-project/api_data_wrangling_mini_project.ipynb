{
 "cells": [
  {
   "cell_type": "markdown",
   "metadata": {},
   "source": [
    "This exercise will require you to pull some data from https://data.nasdaq.com/ (formerly Quandl API)."
   ]
  },
  {
   "cell_type": "markdown",
   "metadata": {},
   "source": [
    "As a first step, you will need to register a free account on the https://data.nasdaq.com/ website."
   ]
  },
  {
   "cell_type": "markdown",
   "metadata": {},
   "source": [
    "After you register, you will be provided with a unique API key, that you should store:\n",
    "\n",
    "*Note*: Use a `.env` file and put your key in there and `python-dotenv` to access it in this notebook. \n",
    "\n",
    "The code below uses a key that was used when generating this project but has since been deleted. Never submit your keys to source control. There is a `.env-example` file in this repository to illusrtate what you need. Copy that to a file called `.env` and use your own api key in that `.env` file. Make sure you also have a `.gitignore` file with a line for `.env` added to it. \n",
    "\n",
    "The standard Python gitignore is [here](https://github.com/github/gitignore/blob/master/Python.gitignore) you can just copy that. "
   ]
  },
  {
   "cell_type": "code",
   "execution_count": 2,
   "metadata": {
    "ExecuteTime": {
     "end_time": "2021-11-02T06:08:12.929807Z",
     "start_time": "2021-11-02T06:08:12.919565Z"
    }
   },
   "outputs": [
    {
     "name": "stdout",
     "output_type": "stream",
     "text": [
      "QVFbWyss5T4ak2gtQYsB\n"
     ]
    }
   ],
   "source": [
    "# get api key from your .env file\n",
    "import os\n",
    "from dotenv import load_dotenv  # if missing this module, simply run `pip install python-dotenv`\n",
    "\n",
    "load_dotenv('.env')\n",
    "API_KEY = os.getenv('API_KEY')\n",
    "\n",
    "print(API_KEY)"
   ]
  },
  {
   "cell_type": "markdown",
   "metadata": {},
   "source": [
    "Nasdaq Data has a large number of data sources, but, unfortunately, most of them require a Premium subscription. Still, there are also a good number of free datasets."
   ]
  },
  {
   "cell_type": "markdown",
   "metadata": {},
   "source": [
    "For this mini project, we will focus on equities data from the Frankfurt Stock Exhange (FSE), which is available for free. We'll try and analyze the stock prices of a company called Carl Zeiss Meditec, which manufactures tools for eye examinations, as well as medical lasers for laser eye surgery: https://www.zeiss.com/meditec/int/home.html. The company is listed under the stock ticker AFX_X."
   ]
  },
  {
   "cell_type": "markdown",
   "metadata": {},
   "source": [
    "You can find the detailed Nasdaq Data API instructions here: https://docs.data.nasdaq.com/docs/in-depth-usage"
   ]
  },
  {
   "cell_type": "markdown",
   "metadata": {},
   "source": [
    "While there is a dedicated Python package for connecting to the Nasdaq API, we would prefer that you use the *requests* package, which can be easily downloaded using *pip* or *conda*. You can find the documentation for the package here: http://docs.python-requests.org/en/master/ "
   ]
  },
  {
   "cell_type": "markdown",
   "metadata": {},
   "source": [
    "Finally, apart from the *requests* package, you are encouraged to not use any third party Python packages, such as *pandas*, and instead focus on what's available in the Python Standard Library (the *collections* module might come in handy: https://pymotw.com/3/collections/).\n",
    "Also, since you won't have access to DataFrames, you are encouraged to us Python's native data structures - preferably dictionaries, though some questions can also be answered using lists.\n",
    "You can read more on these data structures here: https://docs.python.org/3/tutorial/datastructures.html"
   ]
  },
  {
   "cell_type": "markdown",
   "metadata": {},
   "source": [
    "Keep in mind that the JSON responses you will be getting from the API map almost one-to-one to Python's dictionaries. Unfortunately, they can be very nested, so make sure you read up on indexing dictionaries in the documentation provided above."
   ]
  },
  {
   "cell_type": "code",
   "execution_count": 74,
   "metadata": {
    "ExecuteTime": {
     "end_time": "2021-11-03T02:47:51.844902Z",
     "start_time": "2021-11-03T02:47:51.842561Z"
    }
   },
   "outputs": [],
   "source": [
    "# First, import the relevant modules\n",
    "import json\n",
    "import requests\n",
    "import numpy as np"
   ]
  },
  {
   "cell_type": "markdown",
   "metadata": {},
   "source": [
    "Note: API's can change a bit with each version, for this exercise it is reccomended to use the nasdaq api at `https://data.nasdaq.com/api/v3/`. This is the same api as what used to be quandl so `https://www.quandl.com/api/v3/` should work too.\n",
    "\n",
    "Hint: We are looking for the `AFX_X` data on the `datasets/FSE/` dataset."
   ]
  },
  {
   "cell_type": "code",
   "execution_count": 29,
   "metadata": {
    "ExecuteTime": {
     "end_time": "2021-11-03T00:12:20.191467Z",
     "start_time": "2021-11-03T00:12:19.717859Z"
    }
   },
   "outputs": [
    {
     "data": {
      "text/plain": [
       "b'{\"dataset\":{\"id\":10095370,\"dataset_code\":\"AFX_X\",\"database_code\":\"FSE\",\"name\":\"Carl Zeiss Meditec (AFX_X)\",\"description\":\"Stock Prices for Carl Zeiss Meditec (2020-11-02) from the Frankfurt Stock Exchange.\\\\u003cbr\\\\u003e\\\\u003cbr\\\\u003eTrading System: Xetra\\\\u003cbr\\\\u003e\\\\u003cbr\\\\u003eISIN: DE0005313704\",\"refreshed_at\":\"2020-12-01T14:48:09.907Z\",\"newest_available_date\":\"2020-12-01\",\"oldest_available_date\":\"2000-06-07\",\"column_names\":[\"Date\",\"Open\",\"High\",\"Low\",\"Close\",\"Change\",\"Traded Volume\",\"Turnover\",\"Last Price of the Day\",\"Daily Traded Units\",\"Daily Turnover\"],\"frequency\":\"daily\",\"type\":\"Time Series\",\"premium\":false,\"limit\":1,\"transform\":null,\"column_index\":null,\"start_date\":\"2000-06-07\",\"end_date\":\"2020-12-01\",\"data\":[[\"2020-12-01\",112.2,112.2,111.5,112.0,null,51.0,5703.0,null,null,null]],\"collapse\":null,\"order\":null,\"database_id\":6129}}'"
      ]
     },
     "execution_count": 29,
     "metadata": {},
     "output_type": "execute_result"
    }
   ],
   "source": [
    "# Now, call the Nasdaq API and pull out a small sample of the data (only one day) to get a glimpse\n",
    "# into the JSON structure that will be returned\n",
    "\n",
    "url = \"https://data.nasdaq.com/api/v3/datasets/FSE/AFX_X/\"\n",
    "params = {'api_key': API_KEY, 'limit': 1} #limit to specify looking at only one day\n",
    "r = requests.get(url, params = params)\n",
    "r.content"
   ]
  },
  {
   "cell_type": "code",
   "execution_count": 9,
   "metadata": {},
   "outputs": [
    {
     "name": "stdout",
     "output_type": "stream",
     "text": [
      "{'dataset': {'id': 10095370, 'dataset_code': 'AFX_X', 'database_code': 'FSE', 'name': 'Carl Zeiss Meditec (AFX_X)', 'description': 'Stock Prices for Carl Zeiss Meditec (2020-11-02) from the Frankfurt Stock Exchange.<br><br>Trading System: Xetra<br><br>ISIN: DE0005313704', 'refreshed_at': '2020-12-01T14:48:09.907Z', 'newest_available_date': '2020-12-01', 'oldest_available_date': '2000-06-07', 'column_names': ['Date', 'Open', 'High', 'Low', 'Close', 'Change', 'Traded Volume', 'Turnover', 'Last Price of the Day', 'Daily Traded Units', 'Daily Turnover'], 'frequency': 'daily', 'type': 'Time Series', 'premium': False, 'limit': None, 'transform': None, 'column_index': None, 'start_date': '2021-01-03', 'end_date': '2020-12-01', 'data': [], 'collapse': None, 'order': None, 'database_id': 6129}}\n"
     ]
    }
   ],
   "source": [
    "# Inspect the JSON structure of the object you created, and take note of how nested it is,\n",
    "# as well as the overall structure"
   ]
  },
  {
   "cell_type": "markdown",
   "metadata": {},
   "source": [
    "These are your tasks for this mini project:\n",
    "\n",
    "1. Collect data from the Franfurt Stock Exchange, for the ticker AFX_X, for the whole year 2017 (keep in mind that the date format is YYYY-MM-DD).\n",
    "2. Convert the returned JSON object into a Python dictionary.\n",
    "3. Calculate what the highest and lowest opening prices were for the stock in this period.\n",
    "4. What was the largest change in any one day (based on High and Low price)?\n",
    "5. What was the largest change between any two days (based on Closing Price)?\n",
    "6. What was the average daily trading volume during this year?\n",
    "7. (Optional) What was the median trading volume during this year. (Note: you may need to implement your own function for calculating the median.)"
   ]
  },
  {
   "cell_type": "code",
   "execution_count": null,
   "metadata": {},
   "outputs": [],
   "source": [
    "#testing changes"
   ]
  },
  {
   "cell_type": "code",
   "execution_count": 32,
   "metadata": {
    "ExecuteTime": {
     "end_time": "2021-11-03T00:14:23.816698Z",
     "start_time": "2021-11-03T00:14:23.356209Z"
    }
   },
   "outputs": [],
   "source": [
    "url = \"https://data.nasdaq.com/api/v3/datasets/FSE/AFX_X/\"\n",
    "params = {'api_key': API_KEY, 'start_date': '2017-01-01', 'end_date': '2017-12-31'}\n",
    "r = requests.get(url, params = params)\n",
    "data = r.json()"
   ]
  },
  {
   "cell_type": "code",
   "execution_count": 131,
   "metadata": {
    "ExecuteTime": {
     "end_time": "2021-11-03T03:29:57.681375Z",
     "start_time": "2021-11-03T03:29:57.673054Z"
    }
   },
   "outputs": [
    {
     "name": "stdout",
     "output_type": "stream",
     "text": [
      "The highest opening price was: $53.11\n",
      "The lowest opening price was: $34.0\n",
      "The largest change between any one day in 2017 was: $2.81\n",
      "The largest change between any two days in 2017 was: $2.56\n",
      "The average daily trading volume during 2017 was: 89124.33725490196\n",
      "The median trading volume during 2017 was: 76286.0\n"
     ]
    }
   ],
   "source": [
    "#without pandas\n",
    "open_price = []\n",
    "day_change = []\n",
    "close = []\n",
    "trading_volume = []\n",
    "for values in data['dataset']['data']:\n",
    "    open_price.append(values[1])\n",
    "    if values[2] is not None and values[3] is not None:\n",
    "        change = values[2]-values[3]\n",
    "        day_change.append(change)\n",
    "    close.append(values[4])\n",
    "    trading_volume.append(values[6])\n",
    "\n",
    "open_price = [i for i in open_price if i]\n",
    "day_change = [i for i in day_change if i]\n",
    "trading_volume = [i for i in trading_volume if i]\n",
    "trading_volume.sort()\n",
    "mid = len(trading_volume)//2\n",
    "res = (trading_volume[mid] + trading_volume[~mid])/2\n",
    "\n",
    "print('The highest opening price was: ${}'.format(max(open_price)))\n",
    "print('The lowest opening price was: ${}'.format(min(open_price)))\n",
    "print('The largest change between any one day in 2017 was: ${}'.format(round(max(day_change), 2)))\n",
    "print('The largest change between any two days in 2017 was: ${}'.format(round(max(np.diff(close)), 2)))\n",
    "print('The average daily trading volume during 2017 was: {}'.format(sum(trading_volume)/len(trading_volume)))\n",
    "print('The median trading volume during 2017 was: {}'.format(res))"
   ]
  },
  {
   "cell_type": "code",
   "execution_count": 120,
   "metadata": {
    "ExecuteTime": {
     "end_time": "2021-11-03T03:23:47.655455Z",
     "start_time": "2021-11-03T03:23:47.646432Z"
    }
   },
   "outputs": [
    {
     "name": "stdout",
     "output_type": "stream",
     "text": [
      "The highest opening price was: $53.11\n",
      "The lowest opening price was: $34.0\n",
      "The largest change between any one day was: $2.81\n",
      "The largest change between any two days in 2017 was: $2.56\n",
      "The average daily trading volume during 2017 was: 89124.33725490196\n",
      "The median trading volume during 2017 was: 76286.0\n"
     ]
    }
   ],
   "source": [
    "#with pandas\n",
    "import pandas as pd\n",
    "df = pd.DataFrame.from_dict(data['dataset']['data'])\n",
    "df.set_axis(data['dataset']['column_names'], axis=1, inplace=True)\n",
    "\n",
    "highest = df['Open'].max()\n",
    "lowest = df['Open'].min()\n",
    "df['1 Day Change'] = df['High'] - df['Low']\n",
    "df['2 Day Change'] = df['Close'].diff()\n",
    "max_2day = df['2 Day Change'].max()\n",
    "largest_day = df['1 Day Change'].max()\n",
    "\n",
    "print('The highest opening price was: ${}'.format(round(highest, 2)))\n",
    "print('The lowest opening price was: ${}'.format(round(lowest, 2)))\n",
    "print('The largest change between any one day was: ${}'.format(round(largest_day, 2)))\n",
    "print('The largest change between any two days in 2017 was: ${}'.format(round(max_2day, 2)))\n",
    "print('The average daily trading volume during 2017 was: {}'.format(df['Traded Volume'].mean()))\n",
    "print('The median trading volume during 2017 was: {}'.format(df['Traded Volume'].median()))"
   ]
  }
 ],
 "metadata": {
  "interpreter": {
   "hash": "4885f37acae9217c235118400878352aafa7b76e66df698a1f601374f86939a7"
  },
  "kernelspec": {
   "display_name": "Python 3",
   "language": "python",
   "name": "python3"
  },
  "language_info": {
   "codemirror_mode": {
    "name": "ipython",
    "version": 3
   },
   "file_extension": ".py",
   "mimetype": "text/x-python",
   "name": "python",
   "nbconvert_exporter": "python",
   "pygments_lexer": "ipython3",
   "version": "3.7.3"
  }
 },
 "nbformat": 4,
 "nbformat_minor": 4
}
